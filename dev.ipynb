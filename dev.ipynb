{
 "cells": [
  {
   "cell_type": "code",
   "execution_count": 6,
   "metadata": {},
   "outputs": [],
   "source": [
    "import oracledb\n",
    "from sqlalchemy import (\n",
    "    create_engine,\n",
    "    MetaData,\n",
    "    Table,\n",
    "    Column,\n",
    "    text,\n",
    "    String,\n",
    "    Integer,\n",
    ")\n",
    "import re\n",
    "\n",
    "from llama_index.core.objects import (\n",
    "    SQLTableNodeMapping,\n",
    "    ObjectIndex,\n",
    "    SQLTableSchema,\n",
    ")\n",
    "from llama_index.core import SQLDatabase, VectorStoreIndex\n"
   ]
  },
  {
   "cell_type": "code",
   "execution_count": 7,
   "metadata": {},
   "outputs": [],
   "source": [
    "DATABASE_SETTINGS = {\n",
    "    \"db_user\": \"TEST_SCHEMA\",\n",
    "    \"db_pass\": \"Conneq_schema1\",\n",
    "    \"db_dsn\": \"(description= (retry_count=20)(retry_delay=3)(address=(protocol=tcps)(port=1522)(host=adb.ap-mumbai-1.oraclecloud.com))(connect_data=(service_name=ge39e7b01ee1b6f_connetqdevdb_low.adb.oraclecloud.com))(security=(ssl_server_dn_match=yes)))\",\n",
    "    \"db_min\": 1,\n",
    "    \"db_max\": 5,\n",
    "    \"db_inc\": 1,\n",
    "}\n",
    "\n",
    "\n",
    "user = DATABASE_SETTINGS[\"db_user\"]\n",
    "password = DATABASE_SETTINGS[\"db_pass\"]\n",
    "dsn = DATABASE_SETTINGS[\"db_dsn\"]\n",
    "min = DATABASE_SETTINGS[\"db_min\"]\n",
    "max = DATABASE_SETTINGS[\"db_max\"]\n",
    "inc = DATABASE_SETTINGS[\"db_inc\"]\n"
   ]
  },
  {
   "cell_type": "code",
   "execution_count": 8,
   "metadata": {},
   "outputs": [],
   "source": [
    "def db_Connect_thinModePool(user, password, dsn, min=1, max=5, increment=1):\n",
    "    try:\n",
    "        ConnectionPool = oracledb.create_pool(\n",
    "            user=user, password=password, dsn=dsn, min=min, max=max, increment=increment\n",
    "        )\n",
    "        engine = create_engine(\"oracle+oracledb://\", creator=ConnectionPool.acquire)\n",
    "        return engine\n",
    "    except Exception as e:\n",
    "        print(f\"DB Error:  {e}\")\n",
    "        return None"
   ]
  },
  {
   "cell_type": "code",
   "execution_count": 9,
   "metadata": {},
   "outputs": [],
   "source": [
    "engine = db_Connect_thinModePool(user, password, dsn, min, max, inc)"
   ]
  },
  {
   "cell_type": "code",
   "execution_count": 10,
   "metadata": {},
   "outputs": [
    {
     "name": "stdout",
     "output_type": "stream",
     "text": [
      "[(0,)]\n"
     ]
    }
   ],
   "source": [
    "with engine.connect() as connection:\n",
    "  print(connection.execute(text(\"SELECT COUNT(*) FROM AI_PASSPORT2 WHERE Nationality = 'USA'\")).fetchall())"
   ]
  },
  {
   "cell_type": "code",
   "execution_count": 11,
   "metadata": {},
   "outputs": [
    {
     "name": "stderr",
     "output_type": "stream",
     "text": [
      "c:\\Users\\AtmanMishra\\miniconda3\\envs\\ai-use-case\\lib\\site-packages\\llama_index\\core\\utilities\\sql_wrapper.py:110: SAWarning: Did not recognize type 'MY_NESTED_TABLE_1' of column 'teb_ele'\n",
      "  self._metadata.reflect(\n",
      "c:\\Users\\AtmanMishra\\miniconda3\\envs\\ai-use-case\\lib\\site-packages\\llama_index\\core\\utilities\\sql_wrapper.py:110: SAWarning: Did not recognize type 'NTD_TABLE' of column 'base_ntd_tb'\n",
      "  self._metadata.reflect(\n",
      "c:\\Users\\AtmanMishra\\miniconda3\\envs\\ai-use-case\\lib\\site-packages\\llama_index\\core\\utilities\\sql_wrapper.py:110: SAWarning: Did not recognize type 'SDO_GEOMETRY' of column 'geometry'\n",
      "  self._metadata.reflect(\n",
      "c:\\Users\\AtmanMishra\\miniconda3\\envs\\ai-use-case\\lib\\site-packages\\llama_index\\core\\utilities\\sql_wrapper.py:110: SAWarning: Did not recognize type 'PARENT_NAMES_T' of column 'parent_names'\n",
      "  self._metadata.reflect(\n",
      "c:\\Users\\AtmanMishra\\miniconda3\\envs\\ai-use-case\\lib\\site-packages\\llama_index\\core\\utilities\\sql_wrapper.py:110: SAWarning: Did not recognize type 'CHILD_NAMES_T' of column 'children_names'\n",
      "  self._metadata.reflect(\n",
      "c:\\Users\\AtmanMishra\\miniconda3\\envs\\ai-use-case\\lib\\site-packages\\llama_index\\core\\utilities\\sql_wrapper.py:110: SAWarning: Did not recognize type 'V_ARRAY_BOOK' of column 'cost'\n",
      "  self._metadata.reflect(\n",
      "c:\\Users\\AtmanMishra\\miniconda3\\envs\\ai-use-case\\lib\\site-packages\\llama_index\\core\\utilities\\sql_wrapper.py:110: SAWarning: Did not recognize type 'NESTED_BOOK' of column 'cost'\n",
      "  self._metadata.reflect(\n",
      "c:\\Users\\AtmanMishra\\miniconda3\\envs\\ai-use-case\\lib\\site-packages\\llama_index\\core\\utilities\\sql_wrapper.py:110: SAWarning: Did not recognize type 'NTD_TABLE_ROHITH' of column 't_ntd'\n",
      "  self._metadata.reflect(\n",
      "c:\\Users\\AtmanMishra\\miniconda3\\envs\\ai-use-case\\lib\\site-packages\\llama_index\\core\\utilities\\sql_wrapper.py:110: SAWarning: Did not recognize type 'NTD_TBL' of column 'file_id_list'\n",
      "  self._metadata.reflect(\n",
      "c:\\Users\\AtmanMishra\\miniconda3\\envs\\ai-use-case\\lib\\site-packages\\llama_index\\core\\utilities\\sql_wrapper.py:110: SAWarning: Did not recognize type 'AP_INVOICES_ALL_TYPE' of column 'ap_invoice_all_data'\n",
      "  self._metadata.reflect(\n",
      "c:\\Users\\AtmanMishra\\miniconda3\\envs\\ai-use-case\\lib\\site-packages\\llama_index\\core\\utilities\\sql_wrapper.py:110: SAWarning: Did not recognize type 'AP_INVOICES_LINES_ALL_TYPE' of column 'ap_invoice_lines_all_data'\n",
      "  self._metadata.reflect(\n",
      "c:\\Users\\AtmanMishra\\miniconda3\\envs\\ai-use-case\\lib\\site-packages\\llama_index\\core\\utilities\\sql_wrapper.py:110: SAWarning: On reflected table xx_ap_invoices_lines_all, skipping reflection of foreign key constraint sys_c0070342; one or more subject columns within name(s) \"AP_INVOICE_LINES_ALL_DATA\".\"INVOICE_ID\" are not present in the table\n",
      "  self._metadata.reflect(\n"
     ]
    },
    {
     "ename": "NoSuchTableError",
     "evalue": "sub_schedule_day1",
     "output_type": "error",
     "traceback": [
      "\u001b[1;31m---------------------------------------------------------------------------\u001b[0m",
      "\u001b[1;31mNoSuchTableError\u001b[0m                          Traceback (most recent call last)",
      "Cell \u001b[1;32mIn[11], line 1\u001b[0m\n\u001b[1;32m----> 1\u001b[0m sql_database \u001b[38;5;241m=\u001b[39m \u001b[43mSQLDatabase\u001b[49m\u001b[43m(\u001b[49m\u001b[43mengine\u001b[49m\u001b[43m)\u001b[49m\n",
      "File \u001b[1;32mc:\\Users\\AtmanMishra\\miniconda3\\envs\\ai-use-case\\lib\\site-packages\\llama_index\\core\\utilities\\sql_wrapper.py:110\u001b[0m, in \u001b[0;36mSQLDatabase.__init__\u001b[1;34m(self, engine, schema, metadata, ignore_tables, include_tables, sample_rows_in_table_info, indexes_in_table_info, custom_table_info, view_support, max_string_length)\u001b[0m\n\u001b[0;32m    108\u001b[0m \u001b[38;5;28mself\u001b[39m\u001b[38;5;241m.\u001b[39m_metadata \u001b[38;5;241m=\u001b[39m metadata \u001b[38;5;129;01mor\u001b[39;00m MetaData()\n\u001b[0;32m    109\u001b[0m \u001b[38;5;66;03m# including view support if view_support = true\u001b[39;00m\n\u001b[1;32m--> 110\u001b[0m \u001b[38;5;28;43mself\u001b[39;49m\u001b[38;5;241;43m.\u001b[39;49m\u001b[43m_metadata\u001b[49m\u001b[38;5;241;43m.\u001b[39;49m\u001b[43mreflect\u001b[49m\u001b[43m(\u001b[49m\n\u001b[0;32m    111\u001b[0m \u001b[43m    \u001b[49m\u001b[43mviews\u001b[49m\u001b[38;5;241;43m=\u001b[39;49m\u001b[43mview_support\u001b[49m\u001b[43m,\u001b[49m\n\u001b[0;32m    112\u001b[0m \u001b[43m    \u001b[49m\u001b[43mbind\u001b[49m\u001b[38;5;241;43m=\u001b[39;49m\u001b[38;5;28;43mself\u001b[39;49m\u001b[38;5;241;43m.\u001b[39;49m\u001b[43m_engine\u001b[49m\u001b[43m,\u001b[49m\n\u001b[0;32m    113\u001b[0m \u001b[43m    \u001b[49m\u001b[43monly\u001b[49m\u001b[38;5;241;43m=\u001b[39;49m\u001b[38;5;28;43mlist\u001b[39;49m\u001b[43m(\u001b[49m\u001b[38;5;28;43mself\u001b[39;49m\u001b[38;5;241;43m.\u001b[39;49m\u001b[43m_usable_tables\u001b[49m\u001b[43m)\u001b[49m\u001b[43m,\u001b[49m\n\u001b[0;32m    114\u001b[0m \u001b[43m    \u001b[49m\u001b[43mschema\u001b[49m\u001b[38;5;241;43m=\u001b[39;49m\u001b[38;5;28;43mself\u001b[39;49m\u001b[38;5;241;43m.\u001b[39;49m\u001b[43m_schema\u001b[49m\u001b[43m,\u001b[49m\n\u001b[0;32m    115\u001b[0m \u001b[43m\u001b[49m\u001b[43m)\u001b[49m\n",
      "File \u001b[1;32mc:\\Users\\AtmanMishra\\miniconda3\\envs\\ai-use-case\\lib\\site-packages\\sqlalchemy\\sql\\schema.py:5804\u001b[0m, in \u001b[0;36mMetaData.reflect\u001b[1;34m(self, bind, schema, views, only, extend_existing, autoload_replace, resolve_fks, **dialect_kwargs)\u001b[0m\n\u001b[0;32m   5802\u001b[0m \u001b[38;5;28;01mfor\u001b[39;00m name \u001b[38;5;129;01min\u001b[39;00m load:\n\u001b[0;32m   5803\u001b[0m     \u001b[38;5;28;01mtry\u001b[39;00m:\n\u001b[1;32m-> 5804\u001b[0m         Table(name, \u001b[38;5;28mself\u001b[39m, \u001b[38;5;241m*\u001b[39m\u001b[38;5;241m*\u001b[39mreflect_opts)\n\u001b[0;32m   5805\u001b[0m     \u001b[38;5;28;01mexcept\u001b[39;00m exc\u001b[38;5;241m.\u001b[39mUnreflectableTableError \u001b[38;5;28;01mas\u001b[39;00m uerr:\n\u001b[0;32m   5806\u001b[0m         util\u001b[38;5;241m.\u001b[39mwarn(\u001b[38;5;124mf\u001b[39m\u001b[38;5;124m\"\u001b[39m\u001b[38;5;124mSkipping table \u001b[39m\u001b[38;5;132;01m{\u001b[39;00mname\u001b[38;5;132;01m}\u001b[39;00m\u001b[38;5;124m: \u001b[39m\u001b[38;5;132;01m{\u001b[39;00muerr\u001b[38;5;132;01m}\u001b[39;00m\u001b[38;5;124m\"\u001b[39m)\n",
      "File \u001b[1;32m<string>:2\u001b[0m, in \u001b[0;36m__new__\u001b[1;34m(cls, *args, **kw)\u001b[0m\n",
      "File \u001b[1;32mc:\\Users\\AtmanMishra\\miniconda3\\envs\\ai-use-case\\lib\\site-packages\\sqlalchemy\\util\\deprecations.py:281\u001b[0m, in \u001b[0;36mdeprecated_params.<locals>.decorate.<locals>.warned\u001b[1;34m(fn, *args, **kwargs)\u001b[0m\n\u001b[0;32m    274\u001b[0m     \u001b[38;5;28;01mif\u001b[39;00m m \u001b[38;5;129;01min\u001b[39;00m kwargs:\n\u001b[0;32m    275\u001b[0m         _warn_with_version(\n\u001b[0;32m    276\u001b[0m             messages[m],\n\u001b[0;32m    277\u001b[0m             versions[m],\n\u001b[0;32m    278\u001b[0m             version_warnings[m],\n\u001b[0;32m    279\u001b[0m             stacklevel\u001b[38;5;241m=\u001b[39m\u001b[38;5;241m3\u001b[39m,\n\u001b[0;32m    280\u001b[0m         )\n\u001b[1;32m--> 281\u001b[0m \u001b[38;5;28;01mreturn\u001b[39;00m fn(\u001b[38;5;241m*\u001b[39margs, \u001b[38;5;241m*\u001b[39m\u001b[38;5;241m*\u001b[39mkwargs)\n",
      "File \u001b[1;32mc:\\Users\\AtmanMishra\\miniconda3\\envs\\ai-use-case\\lib\\site-packages\\sqlalchemy\\sql\\schema.py:436\u001b[0m, in \u001b[0;36mTable.__new__\u001b[1;34m(cls, *args, **kw)\u001b[0m\n\u001b[0;32m    429\u001b[0m \u001b[38;5;129m@util\u001b[39m\u001b[38;5;241m.\u001b[39mdeprecated_params(\n\u001b[0;32m    430\u001b[0m     mustexist\u001b[38;5;241m=\u001b[39m(\n\u001b[0;32m    431\u001b[0m         \u001b[38;5;124m\"\u001b[39m\u001b[38;5;124m1.4\u001b[39m\u001b[38;5;124m\"\u001b[39m,\n\u001b[1;32m   (...)\u001b[0m\n\u001b[0;32m    434\u001b[0m )\n\u001b[0;32m    435\u001b[0m \u001b[38;5;28;01mdef\u001b[39;00m \u001b[38;5;21m__new__\u001b[39m(\u001b[38;5;28mcls\u001b[39m, \u001b[38;5;241m*\u001b[39margs: Any, \u001b[38;5;241m*\u001b[39m\u001b[38;5;241m*\u001b[39mkw: Any) \u001b[38;5;241m-\u001b[39m\u001b[38;5;241m>\u001b[39m Any:\n\u001b[1;32m--> 436\u001b[0m     \u001b[38;5;28;01mreturn\u001b[39;00m \u001b[38;5;28mcls\u001b[39m\u001b[38;5;241m.\u001b[39m_new(\u001b[38;5;241m*\u001b[39margs, \u001b[38;5;241m*\u001b[39m\u001b[38;5;241m*\u001b[39mkw)\n",
      "File \u001b[1;32mc:\\Users\\AtmanMishra\\miniconda3\\envs\\ai-use-case\\lib\\site-packages\\sqlalchemy\\sql\\schema.py:490\u001b[0m, in \u001b[0;36mTable._new\u001b[1;34m(cls, *args, **kw)\u001b[0m\n\u001b[0;32m    488\u001b[0m     \u001b[38;5;28;01mreturn\u001b[39;00m table\n\u001b[0;32m    489\u001b[0m \u001b[38;5;28;01mexcept\u001b[39;00m \u001b[38;5;167;01mException\u001b[39;00m:\n\u001b[1;32m--> 490\u001b[0m     \u001b[38;5;28;01mwith\u001b[39;00m util\u001b[38;5;241m.\u001b[39msafe_reraise():\n\u001b[0;32m    491\u001b[0m         metadata\u001b[38;5;241m.\u001b[39m_remove_table(name, schema)\n",
      "File \u001b[1;32mc:\\Users\\AtmanMishra\\miniconda3\\envs\\ai-use-case\\lib\\site-packages\\sqlalchemy\\util\\langhelpers.py:146\u001b[0m, in \u001b[0;36msafe_reraise.__exit__\u001b[1;34m(self, type_, value, traceback)\u001b[0m\n\u001b[0;32m    144\u001b[0m     \u001b[38;5;28;01massert\u001b[39;00m exc_value \u001b[38;5;129;01mis\u001b[39;00m \u001b[38;5;129;01mnot\u001b[39;00m \u001b[38;5;28;01mNone\u001b[39;00m\n\u001b[0;32m    145\u001b[0m     \u001b[38;5;28mself\u001b[39m\u001b[38;5;241m.\u001b[39m_exc_info \u001b[38;5;241m=\u001b[39m \u001b[38;5;28;01mNone\u001b[39;00m  \u001b[38;5;66;03m# remove potential circular references\u001b[39;00m\n\u001b[1;32m--> 146\u001b[0m     \u001b[38;5;28;01mraise\u001b[39;00m exc_value\u001b[38;5;241m.\u001b[39mwith_traceback(exc_tb)\n\u001b[0;32m    147\u001b[0m \u001b[38;5;28;01melse\u001b[39;00m:\n\u001b[0;32m    148\u001b[0m     \u001b[38;5;28mself\u001b[39m\u001b[38;5;241m.\u001b[39m_exc_info \u001b[38;5;241m=\u001b[39m \u001b[38;5;28;01mNone\u001b[39;00m  \u001b[38;5;66;03m# remove potential circular references\u001b[39;00m\n",
      "File \u001b[1;32mc:\\Users\\AtmanMishra\\miniconda3\\envs\\ai-use-case\\lib\\site-packages\\sqlalchemy\\sql\\schema.py:486\u001b[0m, in \u001b[0;36mTable._new\u001b[1;34m(cls, *args, **kw)\u001b[0m\n\u001b[0;32m    484\u001b[0m metadata\u001b[38;5;241m.\u001b[39m_add_table(name, schema, table)\n\u001b[0;32m    485\u001b[0m \u001b[38;5;28;01mtry\u001b[39;00m:\n\u001b[1;32m--> 486\u001b[0m     table\u001b[38;5;241m.\u001b[39m\u001b[38;5;21m__init__\u001b[39m(name, metadata, \u001b[38;5;241m*\u001b[39margs, _no_init\u001b[38;5;241m=\u001b[39m\u001b[38;5;28;01mFalse\u001b[39;00m, \u001b[38;5;241m*\u001b[39m\u001b[38;5;241m*\u001b[39mkw)\n\u001b[0;32m    487\u001b[0m     table\u001b[38;5;241m.\u001b[39mdispatch\u001b[38;5;241m.\u001b[39mafter_parent_attach(table, metadata)\n\u001b[0;32m    488\u001b[0m     \u001b[38;5;28;01mreturn\u001b[39;00m table\n",
      "File \u001b[1;32mc:\\Users\\AtmanMishra\\miniconda3\\envs\\ai-use-case\\lib\\site-packages\\sqlalchemy\\sql\\schema.py:866\u001b[0m, in \u001b[0;36mTable.__init__\u001b[1;34m(self, name, metadata, schema, quote, quote_schema, autoload_with, autoload_replace, keep_existing, extend_existing, resolve_fks, include_columns, implicit_returning, comment, info, listeners, prefixes, _extend_on, _no_init, *args, **kw)\u001b[0m\n\u001b[0;32m    862\u001b[0m \u001b[38;5;66;03m# load column definitions from the database if 'autoload' is defined\u001b[39;00m\n\u001b[0;32m    863\u001b[0m \u001b[38;5;66;03m# we do it after the table is in the singleton dictionary to support\u001b[39;00m\n\u001b[0;32m    864\u001b[0m \u001b[38;5;66;03m# circular foreign keys\u001b[39;00m\n\u001b[0;32m    865\u001b[0m \u001b[38;5;28;01mif\u001b[39;00m autoload_with \u001b[38;5;129;01mis\u001b[39;00m \u001b[38;5;129;01mnot\u001b[39;00m \u001b[38;5;28;01mNone\u001b[39;00m:\n\u001b[1;32m--> 866\u001b[0m     \u001b[38;5;28;43mself\u001b[39;49m\u001b[38;5;241;43m.\u001b[39;49m\u001b[43m_autoload\u001b[49m\u001b[43m(\u001b[49m\n\u001b[0;32m    867\u001b[0m \u001b[43m        \u001b[49m\u001b[43mmetadata\u001b[49m\u001b[43m,\u001b[49m\n\u001b[0;32m    868\u001b[0m \u001b[43m        \u001b[49m\u001b[43mautoload_with\u001b[49m\u001b[43m,\u001b[49m\n\u001b[0;32m    869\u001b[0m \u001b[43m        \u001b[49m\u001b[43minclude_columns\u001b[49m\u001b[43m,\u001b[49m\n\u001b[0;32m    870\u001b[0m \u001b[43m        \u001b[49m\u001b[43m_extend_on\u001b[49m\u001b[38;5;241;43m=\u001b[39;49m\u001b[43m_extend_on\u001b[49m\u001b[43m,\u001b[49m\n\u001b[0;32m    871\u001b[0m \u001b[43m        \u001b[49m\u001b[43m_reflect_info\u001b[49m\u001b[38;5;241;43m=\u001b[39;49m\u001b[43m_reflect_info\u001b[49m\u001b[43m,\u001b[49m\n\u001b[0;32m    872\u001b[0m \u001b[43m        \u001b[49m\u001b[43mresolve_fks\u001b[49m\u001b[38;5;241;43m=\u001b[39;49m\u001b[43mresolve_fks\u001b[49m\u001b[43m,\u001b[49m\n\u001b[0;32m    873\u001b[0m \u001b[43m    \u001b[49m\u001b[43m)\u001b[49m\n\u001b[0;32m    875\u001b[0m \u001b[38;5;66;03m# initialize all the column, etc. objects.  done after reflection to\u001b[39;00m\n\u001b[0;32m    876\u001b[0m \u001b[38;5;66;03m# allow user-overrides\u001b[39;00m\n\u001b[0;32m    878\u001b[0m \u001b[38;5;28mself\u001b[39m\u001b[38;5;241m.\u001b[39m_init_items(\n\u001b[0;32m    879\u001b[0m     \u001b[38;5;241m*\u001b[39margs,\n\u001b[0;32m    880\u001b[0m     allow_replacements\u001b[38;5;241m=\u001b[39mextend_existing\n\u001b[1;32m   (...)\u001b[0m\n\u001b[0;32m    883\u001b[0m     all_names\u001b[38;5;241m=\u001b[39m{},\n\u001b[0;32m    884\u001b[0m )\n",
      "File \u001b[1;32mc:\\Users\\AtmanMishra\\miniconda3\\envs\\ai-use-case\\lib\\site-packages\\sqlalchemy\\sql\\schema.py:898\u001b[0m, in \u001b[0;36mTable._autoload\u001b[1;34m(self, metadata, autoload_with, include_columns, exclude_columns, resolve_fks, _extend_on, _reflect_info)\u001b[0m\n\u001b[0;32m    896\u001b[0m insp \u001b[38;5;241m=\u001b[39m inspection\u001b[38;5;241m.\u001b[39minspect(autoload_with)\n\u001b[0;32m    897\u001b[0m \u001b[38;5;28;01mwith\u001b[39;00m insp\u001b[38;5;241m.\u001b[39m_inspection_context() \u001b[38;5;28;01mas\u001b[39;00m conn_insp:\n\u001b[1;32m--> 898\u001b[0m     \u001b[43mconn_insp\u001b[49m\u001b[38;5;241;43m.\u001b[39;49m\u001b[43mreflect_table\u001b[49m\u001b[43m(\u001b[49m\n\u001b[0;32m    899\u001b[0m \u001b[43m        \u001b[49m\u001b[38;5;28;43mself\u001b[39;49m\u001b[43m,\u001b[49m\n\u001b[0;32m    900\u001b[0m \u001b[43m        \u001b[49m\u001b[43minclude_columns\u001b[49m\u001b[43m,\u001b[49m\n\u001b[0;32m    901\u001b[0m \u001b[43m        \u001b[49m\u001b[43mexclude_columns\u001b[49m\u001b[43m,\u001b[49m\n\u001b[0;32m    902\u001b[0m \u001b[43m        \u001b[49m\u001b[43mresolve_fks\u001b[49m\u001b[43m,\u001b[49m\n\u001b[0;32m    903\u001b[0m \u001b[43m        \u001b[49m\u001b[43m_extend_on\u001b[49m\u001b[38;5;241;43m=\u001b[39;49m\u001b[43m_extend_on\u001b[49m\u001b[43m,\u001b[49m\n\u001b[0;32m    904\u001b[0m \u001b[43m        \u001b[49m\u001b[43m_reflect_info\u001b[49m\u001b[38;5;241;43m=\u001b[39;49m\u001b[43m_reflect_info\u001b[49m\u001b[43m,\u001b[49m\n\u001b[0;32m    905\u001b[0m \u001b[43m    \u001b[49m\u001b[43m)\u001b[49m\n",
      "File \u001b[1;32mc:\\Users\\AtmanMishra\\miniconda3\\envs\\ai-use-case\\lib\\site-packages\\sqlalchemy\\engine\\reflection.py:1538\u001b[0m, in \u001b[0;36mInspector.reflect_table\u001b[1;34m(self, table, include_columns, exclude_columns, resolve_fks, _extend_on, _reflect_info)\u001b[0m\n\u001b[0;32m   1535\u001b[0m     \u001b[38;5;28;01mraise\u001b[39;00m _reflect_info\u001b[38;5;241m.\u001b[39munreflectable[table_key]\n\u001b[0;32m   1537\u001b[0m \u001b[38;5;28;01mif\u001b[39;00m table_key \u001b[38;5;129;01mnot\u001b[39;00m \u001b[38;5;129;01min\u001b[39;00m _reflect_info\u001b[38;5;241m.\u001b[39mcolumns:\n\u001b[1;32m-> 1538\u001b[0m     \u001b[38;5;28;01mraise\u001b[39;00m exc\u001b[38;5;241m.\u001b[39mNoSuchTableError(table_name)\n\u001b[0;32m   1540\u001b[0m \u001b[38;5;66;03m# reflect table options, like mysql_engine\u001b[39;00m\n\u001b[0;32m   1541\u001b[0m \u001b[38;5;28;01mif\u001b[39;00m _reflect_info\u001b[38;5;241m.\u001b[39mtable_options:\n",
      "\u001b[1;31mNoSuchTableError\u001b[0m: sub_schedule_day1"
     ]
    }
   ],
   "source": [
    "sql_database = SQLDatabase(engine)"
   ]
  },
  {
   "cell_type": "code",
   "execution_count": null,
   "metadata": {},
   "outputs": [],
   "source": []
  }
 ],
 "metadata": {
  "kernelspec": {
   "display_name": "llm-miner-github",
   "language": "python",
   "name": "python3"
  },
  "language_info": {
   "codemirror_mode": {
    "name": "ipython",
    "version": 3
   },
   "file_extension": ".py",
   "mimetype": "text/x-python",
   "name": "python",
   "nbconvert_exporter": "python",
   "pygments_lexer": "ipython3",
   "version": "3.10.13"
  }
 },
 "nbformat": 4,
 "nbformat_minor": 2
}
