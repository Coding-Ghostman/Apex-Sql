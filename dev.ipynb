{
 "cells": [
  {
   "cell_type": "code",
   "execution_count": null,
   "metadata": {},
   "outputs": [],
   "source": [
    "import oracledb\n",
    "from sqlalchemy import (\n",
    "    create_engine,\n",
    "    MetaData,\n",
    "    Table,\n",
    "    Column,\n",
    "    String,\n",
    "    Integer,\n",
    ")\n",
    "import re\n",
    "\n",
    "from llama_index.core.objects import (\n",
    "    SQLTableNodeMapping,\n",
    "    ObjectIndex,\n",
    "    SQLTableSchema,\n",
    ")\n",
    "from llama_index.core import SQLDatabase, VectorStoreIndex\n"
   ]
  },
  {
   "cell_type": "code",
   "execution_count": 3,
   "metadata": {},
   "outputs": [],
   "source": [
    "DATABASE_SETTINGS = {\n",
    "    \"db_user\": \"TEST_SCHEMA\",\n",
    "    \"db_pass\": \"Conneq_schema1\",\n",
    "    \"db_dsn\": \"(description= (retry_count=20)(retry_delay=3)(address=(protocol=tcps)(port=1522)(host=adb.ap-mumbai-1.oraclecloud.com))(connect_data=(service_name=ge39e7b01ee1b6f_connetqdevdb_low.adb.oraclecloud.com))(security=(ssl_server_dn_match=yes)))\",\n",
    "    \"db_min\": 1,\n",
    "    \"db_max\": 5,\n",
    "    \"db_inc\": 1,\n",
    "}\n",
    "\n",
    "\n",
    "user = DATABASE_SETTINGS[\"db_user\"]\n",
    "password = DATABASE_SETTINGS[\"db_pass\"]\n",
    "dsn = DATABASE_SETTINGS[\"db_dsn\"]\n",
    "min = DATABASE_SETTINGS[\"db_min\"]\n",
    "max = DATABASE_SETTINGS[\"db_max\"]\n",
    "inc = DATABASE_SETTINGS[\"db_inc\"]\n"
   ]
  },
  {
   "cell_type": "code",
   "execution_count": 4,
   "metadata": {},
   "outputs": [],
   "source": [
    "def db_Connect_thinModePool(user, password, dsn, min=1, max=5, increment=1):\n",
    "    try:\n",
    "        ConnectionPool = oracledb.create_pool(\n",
    "            user=user, password=password, dsn=dsn, min=min, max=max, increment=increment\n",
    "        )\n",
    "        engine = create_engine(\"oracle+oracledb://\", creator=ConnectionPool.acquire)\n",
    "        return engine\n",
    "    except Exception as e:\n",
    "        print(f\"DB Error:  {e}\")\n",
    "        return None"
   ]
  },
  {
   "cell_type": "code",
   "execution_count": 5,
   "metadata": {},
   "outputs": [],
   "source": [
    "engine = db_Connect_thinModePool(user, password, dsn, min, max, inc)"
   ]
  },
  {
   "cell_type": "code",
   "execution_count": 9,
   "metadata": {},
   "outputs": [
    {
     "name": "stdout",
     "output_type": "stream",
     "text": [
      "[(2,)]\n"
     ]
    }
   ],
   "source": [
    "with engine.connect() as connection:\n",
    "  print(connection.execute(text(\"SELECT COUNT(*) FROM AI_PASSPORT2 WHERE Nationality = 'USA'\")).fetchall())"
   ]
  },
  {
   "cell_type": "code",
   "execution_count": null,
   "metadata": {},
   "outputs": [],
   "source": []
  }
 ],
 "metadata": {
  "kernelspec": {
   "display_name": "llm-miner-github",
   "language": "python",
   "name": "python3"
  },
  "language_info": {
   "codemirror_mode": {
    "name": "ipython",
    "version": 3
   },
   "file_extension": ".py",
   "mimetype": "text/x-python",
   "name": "python",
   "nbconvert_exporter": "python",
   "pygments_lexer": "ipython3",
   "version": "3.10.13"
  }
 },
 "nbformat": 4,
 "nbformat_minor": 2
}
